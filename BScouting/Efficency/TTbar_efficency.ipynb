import numpy as np
import pandas as pd
import uproot
from sklearn.metrics import accuracy_score, roc_auc_score, roc_curve, confusion_matrix
from math import pi, sin, cos, sqrt, sinh, log
import glob
import hist
from itertools import combinations, combinations_with_replacement, permutations
import ROOT


def chi2_function(top_l, top_h):
    chi2 = (172.76 - top_l)**2 + (172.76 - top_h)**2
    return chi2/172.76
def HistNorm(hist):
    integral = hist.Integral()
    hist.Scale(1./integral)

def MakeHist(N,colors,names,title,x_axis,y_axis,high,low,bins):
    hist = []
    for i in range(N):
        hists = ROOT.TH1F(names[i],title,bins,low,high)
        hists.SetLineColor(colors[i])
        #hists.SetFillColor(colors[i])
        hists.GetXaxis().SetTitle(x_axis)
        hists.GetYaxis().SetTitle(y_axis)
        hist.append(hists)
    return hist

def legends(hists):
    print("name = ",hists.GetName())
    hists_legend.AddEntry(hists,hists.GetName(),"lp") 
